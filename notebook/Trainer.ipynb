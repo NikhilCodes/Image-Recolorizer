{
 "cells": [
  {
   "cell_type": "code",
   "execution_count": 1,
   "metadata": {},
   "outputs": [
    {
     "name": "stderr",
     "output_type": "stream",
     "text": [
      "Using TensorFlow backend.\n"
     ]
    }
   ],
   "source": [
    "import os\n",
    "import cv2\n",
    "import numpy as np\n",
    "from IPython.display import clear_output\n",
    "\n",
    "from keras.models import Sequential, load_model\n",
    "from keras.utils import to_categorical\n",
    "from keras.layers import Input, Dense, concatenate, Conv2D, BatchNormalization, Activation, MaxPooling2D, Dropout, GlobalMaxPool2D, Flatten\n",
    "from keras.layers.normalization import BatchNormalization\n",
    "\n",
    "from scipy.stats import zscore\n",
    "\n",
    "training_img = os.listdir('Train')"
   ]
  },
  {
   "cell_type": "code",
   "execution_count": 2,
   "metadata": {
    "scrolled": true
   },
   "outputs": [
    {
     "name": "stdout",
     "output_type": "stream",
     "text": [
      "(150, 200, 3)\n"
     ]
    }
   ],
   "source": [
    "# Img to Matirx\n",
    "\n",
    "training_img_data = []\n",
    "for img in training_img:\n",
    "    training_img_data.append(cv2.resize(cv2.imread('Train/' + img), (200, 150)))\n",
    "    \n",
    "Y = np.array(training_img_data)\n",
    "X = np.array([cv2.cvtColor(img, cv2.COLOR_BGR2GRAY) for img in Y])\n",
    "X = np.expand_dims(X, axis=-1)\n",
    "\n",
    "print(Y[0].shape)\n",
    "cv2.imshow('img',X[0])\n",
    "cv2.waitKey(1000)\n",
    "cv2.destroyAllWindows()"
   ]
  },
  {
   "cell_type": "code",
   "execution_count": 3,
   "metadata": {},
   "outputs": [],
   "source": [
    "model = Sequential([\n",
    "    Conv2D(64, (1,1), activation='sigmoid', input_shape=(150,200,1),data_format='channels_last', padding='same', kernel_initializer='he_normal'),\n",
    "    Conv2D(64, (1,1), activation='sigmoid', padding='same', kernel_initializer='he_normal'),\n",
    "    BatchNormalization(),\n",
    "    \n",
    "    Conv2D(64, (1,1), activation='sigmoid', padding='same', kernel_initializer='he_normal'),\n",
    "    Conv2D(64, (1,1), activation='sigmoid', padding='same', kernel_initializer='he_normal'),\n",
    "    BatchNormalization(),\n",
    "    \n",
    "    Conv2D(32, (1,1), activation='sigmoid', padding='same', kernel_initializer='he_normal'),\n",
    "    Conv2D(32, (1,1), activation='sigmoid', padding='same', kernel_initializer='he_normal'),\n",
    "    BatchNormalization(),\n",
    "    \n",
    "    Conv2D(8, (1,1), activation='sigmoid', padding='same', kernel_initializer='he_normal'),\n",
    "    Conv2D(3, (1,1), activation='sigmoid', padding='same', kernel_initializer='he_normal'),\n",
    "])\n",
    "\n",
    "model.compile(\n",
    "    optimizer='Adadelta', # Adadelta is Robust Optimizer, but faster learning\n",
    "    loss='mse', # mse Faster Convergence(Regression)\n",
    "    metrics=['accuracy']\n",
    ")"
   ]
  },
  {
   "cell_type": "code",
   "execution_count": 4,
   "metadata": {},
   "outputs": [],
   "source": [
    "#model.fit(X/255, Y/255, epochs=3)"
   ]
  },
  {
   "cell_type": "code",
   "execution_count": null,
   "metadata": {},
   "outputs": [
    {
     "name": "stdout",
     "output_type": "stream",
     "text": [
      "Epoch 1/3\n",
      "47/47 [==============================] - 68s 1s/step - loss: 0.1059 - acc: 0.4941\n",
      "Epoch 2/3\n",
      "47/47 [==============================] - 53s 1s/step - loss: 0.0860 - acc: 0.4941\n",
      "Epoch 3/3\n",
      "32/47 [===================>..........] - ETA: 17s - loss: 0.0788 - acc: 0.5039"
     ]
    }
   ],
   "source": [
    "while(1):\n",
    "    model.fit(X/255, Y/255, epochs=3)\n",
    "    for i in model.predict((X[:4])/255):\n",
    "        clear_output()\n",
    "        print(i*255)\n",
    "        cv2.imshow('img',i)\n",
    "        cv2.waitKey(3000)\n",
    "        cv2.destroyAllWindows()"
   ]
  }
 ],
 "metadata": {
  "kernelspec": {
   "display_name": "Python 3",
   "language": "python",
   "name": "python3"
  },
  "language_info": {
   "codemirror_mode": {
    "name": "ipython",
    "version": 3
   },
   "file_extension": ".py",
   "mimetype": "text/x-python",
   "name": "python",
   "nbconvert_exporter": "python",
   "pygments_lexer": "ipython3",
   "version": "3.6.6"
  }
 },
 "nbformat": 4,
 "nbformat_minor": 2
}
